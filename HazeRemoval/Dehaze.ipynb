{
 "cells": [
  {
   "attachments": {},
   "cell_type": "markdown",
   "metadata": {},
   "source": [
    "# **Aerial Image Enhancement**\n",
    "###### *By: Pranav Sehgal (20BCE0898)*"
   ]
  },
  {
   "attachments": {},
   "cell_type": "markdown",
   "metadata": {},
   "source": [
    "***1.Importing Necessary Packages***"
   ]
  },
  {
   "cell_type": "code",
   "execution_count": 60,
   "metadata": {},
   "outputs": [],
   "source": [
    "import numpy as np;\n",
    "import cv2 ;"
   ]
  },
  {
   "attachments": {},
   "cell_type": "markdown",
   "metadata": {},
   "source": [
    "***2.Refine Filter***"
   ]
  },
  {
   "cell_type": "code",
   "execution_count": 61,
   "metadata": {
    "collapsed": true
   },
   "outputs": [],
   "source": [
    "def FilterRefine(Image ,p ,r ,Epsilon):\n",
    "    I_mean = cv2.boxFilter(Image,cv2.CV_64F,(r,r));\n",
    "    p_mean = cv2.boxFilter(p, cv2.CV_64F,(r,r));\n",
    "    Ip_mean = cv2.boxFilter(Image*p,cv2.CV_64F,(r,r));\n",
    "    Ip_cov = Ip_mean - I_mean*p_mean;\n",
    "\n",
    "    II_mean = cv2.boxFilter(Image*Image,cv2.CV_64F,(r,r));\n",
    "    I_var   = II_mean - I_mean*I_mean;\n",
    "\n",
    "    a = Ip_cov/(I_var + Epsilon);\n",
    "    b = p_mean - a*I_mean;\n",
    "\n",
    "    a_mean = cv2.boxFilter(a,cv2.CV_64F,(r,r));\n",
    "    b_mean = cv2.boxFilter(b,cv2.CV_64F,(r,r));\n",
    "\n",
    "    OutputRefine = a_mean*Image + b_mean;\n",
    "    return OutputRefine;"
   ]
  },
  {
   "attachments": {},
   "cell_type": "markdown",
   "metadata": {},
   "source": [
    "***3.Refine Tranmission***"
   ]
  },
  {
   "cell_type": "code",
   "execution_count": 62,
   "metadata": {},
   "outputs": [],
   "source": [
    "def TransmissionRefine(Image,et):\n",
    "    gray = cv2.cvtColor(Image,cv2.COLOR_BGR2GRAY);\n",
    "    gray = np.float64(gray)/255;\n",
    "    r = 60;    # initially 60\n",
    "    eps = 0.0001; # initially 0.0001\n",
    "    RefinedTransmit = FilterRefine(gray,et,r,eps);\n",
    "\n",
    "    return RefinedTransmit;"
   ]
  },
  {
   "attachments": {},
   "cell_type": "markdown",
   "metadata": {},
   "source": [
    "***4.Input the Image to enhance***"
   ]
  },
  {
   "cell_type": "code",
   "execution_count": 70,
   "metadata": {},
   "outputs": [],
   "source": [
    "imageName = input(\"Enter the name of the file with extension: \")\n",
    "src = cv2.imread(f'../Haze Removal/Results/{imageName}')"
   ]
  },
  {
   "attachments": {},
   "cell_type": "markdown",
   "metadata": {},
   "source": [
    "***5.Dehaze the given image and store it in the output directory by calculating DarkChannel and Air light of an Image***"
   ]
  },
  {
   "cell_type": "code",
   "execution_count": 71,
   "metadata": {},
   "outputs": [],
   "source": [
    "I = np.float64(src)/255\n",
    "sz = 50\n",
    "\n",
    "dc = cv2.min(cv2.min(I[:,:,0],I[:,:,1]),I[:,:,2])\n",
    "\n",
    "blue,green,red = cv2.split(I) \n",
    "Im = ((blue + green + red)/3)\n",
    "dark =  Im + (Im.mean() - dc.mean() )\n",
    "A = dark\n",
    "\n",
    "kernel = np.ones((sz,sz),np.float32)/(sz*sz)\n",
    "A = cv2.filter2D(A,-1,kernel)\n",
    "\n",
    "A = TransmissionRefine(src,A);\n",
    "\n",
    "\n",
    "A = cv2.min(A,0.8)\n",
    "temp = np.zeros(I.shape,I.dtype)\n",
    "temp[:,:,0] = (I[:,:,0]/A)\n",
    "temp[:,:,1] = (I[:,:,1]/A)\n",
    "temp[:,:,2] = (I[:,:,2]/A)\n",
    "\n",
    "\n",
    "dc = cv2.min(cv2.min(temp[:,:,0] ,temp[:,:,1]),temp[:,:,2]) \n",
    "\n",
    "mean = (temp[:,:,0] +temp[:,:,1] +temp[:,:,2])/3\n",
    "meanI = (blue+green+red)/3\n",
    "dark = cv2.min(cv2.min(I[:,:,0],I[:,:,1]),I[:,:,2])\n",
    "beta = meanI - dark\n",
    "\n",
    "t = (1 - 0.95*(dc))/(1-beta)"
   ]
  },
  {
   "cell_type": "code",
   "execution_count": 72,
   "metadata": {
    "collapsed": true
   },
   "outputs": [],
   "source": [
    "t = cv2.max(t,0.1)\n",
    "J = np.zeros(I.shape,I.dtype)\n",
    "for ind in range(0,3):\n",
    "    J[:,:,ind] = (I[:,:,ind]-A)/(t)  + (A)"
   ]
  },
  {
   "attachments": {},
   "cell_type": "markdown",
   "metadata": {},
   "source": [
    "***6.Output images: Enhanced Image, Gray scale, Original image***"
   ]
  },
  {
   "cell_type": "code",
   "execution_count": 73,
   "metadata": {
    "collapsed": true
   },
   "outputs": [],
   "source": [
    "cv2.imshow('J',J)\n",
    "cv2.imshow('I',I)\n",
    "cv2.imshow('t',t)\n",
    "\n",
    "cv2.imwrite('J.jpg',J*255)\n",
    "cv2.imwrite('t.jpg',t*255)\n",
    "cv2.imwrite('I.jpg',I*255)\n",
    "\n",
    "cv2.waitKey()\n",
    "cv2.destroyAllWindows()"
   ]
  },
  {
   "cell_type": "code",
   "execution_count": null,
   "metadata": {},
   "outputs": [],
   "source": []
  }
 ],
 "metadata": {
  "kernelspec": {
   "display_name": "Python 3",
   "language": "python",
   "name": "python3"
  },
  "language_info": {
   "codemirror_mode": {
    "name": "ipython",
    "version": 3
   },
   "file_extension": ".py",
   "mimetype": "text/x-python",
   "name": "python",
   "nbconvert_exporter": "python",
   "pygments_lexer": "ipython3",
   "version": "3.10.7"
  },
  "vscode": {
   "interpreter": {
    "hash": "369f2c481f4da34e4445cda3fffd2e751bd1c4d706f27375911949ba6bb62e1c"
   }
  }
 },
 "nbformat": 4,
 "nbformat_minor": 2
}
